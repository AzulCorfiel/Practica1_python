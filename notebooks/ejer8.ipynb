{
 "cells": [
  {
   "cell_type": "markdown",
   "metadata": {},
   "source": [
    "ejercicio 8"
   ]
  },
  {
   "cell_type": "code",
   "execution_count": null,
   "metadata": {},
   "outputs": [
    {
     "name": "stdout",
     "output_type": "stream",
     "text": [
      "amor y roma son anagramas.\n"
     ]
    }
   ],
   "source": [
    "import sys \n",
    "sys.path.append(\"..\")  # Esto asume que estás dentro de /ejercicios y querés ir a la raíz\n",
    "from src.Anagramas import son_anagramas\n",
    "\n",
    "#pedimos al usuario que ingrese dos palabras\n",
    "palabra1 = (input(\"Ingrese la primera palabra: \"))\n",
    "palabra2 = (input(\"Ingrese la segunda palabra: \"))\n",
    "\n",
    "#verificamos si son anagramas y mostramos el resultado\n",
    "if (son_anagramas(palabra1, palabra2)):\n",
    "    print(f\"{palabra1} y {palabra2} son anagramas.\")\n",
    "else:\n",
    "    print(f\"{palabra1} y {palabra2} no son anagramas.\") "
   ]
  }
 ],
 "metadata": {
  "kernelspec": {
   "display_name": "venv",
   "language": "python",
   "name": "python3"
  },
  "language_info": {
   "codemirror_mode": {
    "name": "ipython",
    "version": 3
   },
   "file_extension": ".py",
   "mimetype": "text/x-python",
   "name": "python",
   "nbconvert_exporter": "python",
   "pygments_lexer": "ipython3",
   "version": "3.12.8"
  }
 },
 "nbformat": 4,
 "nbformat_minor": 2
}
