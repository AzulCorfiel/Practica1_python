{
 "cells": [
  {
   "cell_type": "markdown",
   "metadata": {},
   "source": [
    "ejercicio 2 \n"
   ]
  },
  {
   "cell_type": "code",
   "execution_count": null,
   "metadata": {},
   "outputs": [],
   "source": [
    "titles = [\n",
    " \"Speedrun de Super Mario en tiempo récord\",\n",
    " \"Charla sobre desarrollo de videojuegos\",\n",
    " \"Jugando al nuevo FPS del momento con amigos\",\n",
    " \"Música en vivo: improvisaciones al piano\"\n",
    " ]\n",
    "\n",
    "max_palabras = 0\n",
    "max_titulo = \"\" \n",
    "# recorro los titulos \n",
    "for titulo in titles:\n",
    "    # por titulo me crea una lista para contar cada palabra \n",
    "    contador_titulo = len(titulo.split())\n",
    "    #actualizo titulo maximo \n",
    "    if contador_titulo > max_palabras:\n",
    "        max_palabras = contador_titulo\n",
    "        max_titulo = titulo \n",
    "\n",
    "# Imprimir el título con más palabras\n",
    "print(f'El título más largo es:{max_titulo}')\n",
    "\n",
    "\n",
    "\n",
    "\n",
    "\n",
    "    \n",
    "      \n",
    "\n",
    "\n",
    "\n",
    "\n"
   ]
  }
 ],
 "metadata": {
  "kernelspec": {
   "display_name": "venv",
   "language": "python",
   "name": "python3"
  },
  "language_info": {
   "name": "python",
   "version": "3.12.8"
  }
 },
 "nbformat": 4,
 "nbformat_minor": 2
}
