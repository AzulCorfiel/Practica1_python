{
 "cells": [
  {
   "cell_type": "markdown",
   "metadata": {},
   "source": [
    "ejercicio 6 "
   ]
  },
  {
   "cell_type": "code",
   "execution_count": null,
   "metadata": {},
   "outputs": [
    {
     "name": "stdout",
     "output_type": "stream",
     "text": [
      "Mensiones de música: 4\n",
      "Mensiones de  charla: 3\n",
      "Mensiones de entretenimiento: 1\n"
     ]
    }
   ],
   "source": [
    "import sys \n",
    "sys.path.append(\"..\")  # Esto asume que estás dentro de /ejercicios y querés ir a la raíz\n",
    "from src.Mension import contar_mensiones\n",
    "\n",
    "descriptions = [\n",
    " \"Streaming de música en vivo con covers y composiciones\",\n",
    " \"Charla interactiva con la audiencia sobre series y películas\",\n",
    " \"Jugamos a juegos retro y charlamos sobre su historia\",\n",
    " \"Exploramos la mejor música de los 80s y 90s\",\n",
    " \"Programa de entretenimiento con noticias y curiosidades del mundo gamer\",\n",
    " \"Sesión de charla con invitados especiales del mundo del streaming\",\n",
    " \"Música en directo con improvisaciones y peticiones del chat\",\n",
    " \"Un espacio para charlar relajada sobre tecnología y cultura digital\",\n",
    " \"Exploramos el impacto de la música en los videojuegos clásicos\"\n",
    " ]\n",
    "\n",
    "\n",
    "palabras_claves = [\"música\", \" charla\", \"entretenimiento\"]\n",
    "contador = contar_mensiones(descriptions, palabras_claves) \n",
    "\n",
    "\n",
    "for palabra in contador:\n",
    "    count = contador[palabra] # asignamos el valor de contador a la palabra clave\n",
    "    print (f\"Mensiones de {palabra}: {count}\") #imprimo resultado "
   ]
  }
 ],
 "metadata": {
  "kernelspec": {
   "display_name": "venv",
   "language": "python",
   "name": "python3"
  },
  "language_info": {
   "codemirror_mode": {
    "name": "ipython",
    "version": 3
   },
   "file_extension": ".py",
   "mimetype": "text/x-python",
   "name": "python",
   "nbconvert_exporter": "python",
   "pygments_lexer": "ipython3",
   "version": "3.12.8"
  }
 },
 "nbformat": 4,
 "nbformat_minor": 2
}
