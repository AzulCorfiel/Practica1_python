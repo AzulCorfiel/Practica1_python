{
 "cells": [
  {
   "cell_type": "markdown",
   "metadata": {},
   "source": [
    "ejercicio 4 "
   ]
  },
  {
   "cell_type": "code",
   "execution_count": 3,
   "metadata": {},
   "outputs": [
    {
     "name": "stdout",
     "output_type": "stream",
     "text": [
      "El nombre de usuario no cumple con los requisitos\n"
     ]
    }
   ],
   "source": [
    "import sys\n",
    "sys.path.append(\"..\")  # Esto asume que estás dentro de /ejercicios y querés ir a la raíz\n",
    "\n",
    "#from src.ValidarUsuario import contiene_letras_y_numeros\n",
    "#from src.ValidarUsuario import contiene_mayuscula\n",
    "#from src.ValidarUsuario import contiene_numero\n",
    "from src.ValidarUsuario import validar_usuario\n",
    "\n",
    "\n",
    "usuario = input(\"Ingrese nombre de usuario\")\n",
    "\n",
    "resultado = validar_usuario(usuario)\n",
    "print(resultado)"
   ]
  }
 ],
 "metadata": {
  "kernelspec": {
   "display_name": "venv",
   "language": "python",
   "name": "python3"
  },
  "language_info": {
   "codemirror_mode": {
    "name": "ipython",
    "version": 3
   },
   "file_extension": ".py",
   "mimetype": "text/x-python",
   "name": "python",
   "nbconvert_exporter": "python",
   "pygments_lexer": "ipython3",
   "version": "3.12.8"
  }
 },
 "nbformat": 4,
 "nbformat_minor": 2
}
