{
 "cells": [
  {
   "cell_type": "markdown",
   "metadata": {},
   "source": [
    "ejercicio 5 "
   ]
  },
  {
   "cell_type": "code",
   "execution_count": null,
   "metadata": {},
   "outputs": [],
   "source": [
    "def chequear (respuesta):\n",
    "    if respuesta < 200:\n",
    "        return \"Rapido\"\n",
    "    elif (200 <= respuesta <= 500):\n",
    "        return \"Normal\"\n",
    "    elif (respuesta > 500):\n",
    "        return \"Lento\"\n",
    "    "
   ]
  },
  {
   "cell_type": "code",
   "execution_count": null,
   "metadata": {},
   "outputs": [],
   "source": [
    "respuesta = input(\"Ingrese su tiempo de reaccion en ms: \")\n",
    "Categoria = chequear(respuesta)\n",
    "print(Categoria)"
   ]
  }
 ],
 "metadata": {
  "language_info": {
   "name": "python"
  }
 },
 "nbformat": 4,
 "nbformat_minor": 2
}
